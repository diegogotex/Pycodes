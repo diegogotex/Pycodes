{
 "cells": [
  {
   "cell_type": "code",
   "execution_count": 28,
   "metadata": {},
   "outputs": [],
   "source": [
    "#libraries\n",
    "import pandas\n",
    "import numpy"
   ]
  },
  {
   "cell_type": "code",
   "execution_count": 29,
   "metadata": {
    "scrolled": true
   },
   "outputs": [
    {
     "data": {
      "text/plain": [
       "[2,\n",
       " 2,\n",
       " 2,\n",
       " 2,\n",
       " 2,\n",
       " 2,\n",
       " 3,\n",
       " 3,\n",
       " 3,\n",
       " 3,\n",
       " 3,\n",
       " 3,\n",
       " 3,\n",
       " 3,\n",
       " 3,\n",
       " 3,\n",
       " 3,\n",
       " 4,\n",
       " 4,\n",
       " 4,\n",
       " 4,\n",
       " 7,\n",
       " 7,\n",
       " 7,\n",
       " 7,\n",
       " 9,\n",
       " 9,\n",
       " 9,\n",
       " 10]"
      ]
     },
     "execution_count": 29,
     "metadata": {},
     "output_type": "execute_result"
    }
   ],
   "source": [
    "#part1 - selecting only lines from ligand\n",
    "#importing the table\n",
    "ring = pandas.read_csv(\"/home/diego/Dropbox/jupyter/examples/model.000.01_edges.txt\", sep = '\\t')\n",
    "\n",
    "#selecting rows from the ligand\n",
    "ring2 = ring.loc[ring['NodeId1'] >= 'B']\n",
    "\n",
    "\n",
    "#part2 - selecting residues from the ligand\n",
    "#only numbers from the NodeID1\n",
    "# using join() + isnumeric() + list comprehension + map() \n",
    "# Extracting numbers from list of strings \n",
    "lista = list(map(lambda sub:int(''.join(\n",
    "    [ele for ele in sub if ele.isnumeric()])), list(ring2['NodeId1']))) \n",
    "\n",
    "lista\n",
    "\n"
   ]
  }
 ],
 "metadata": {
  "kernelspec": {
   "display_name": "Python 3",
   "language": "python",
   "name": "python3"
  },
  "language_info": {
   "codemirror_mode": {
    "name": "ipython",
    "version": 3
   },
   "file_extension": ".py",
   "mimetype": "text/x-python",
   "name": "python",
   "nbconvert_exporter": "python",
   "pygments_lexer": "ipython3",
   "version": "3.7.4"
  }
 },
 "nbformat": 4,
 "nbformat_minor": 2
}
